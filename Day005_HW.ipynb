{
 "cells": [
  {
   "cell_type": "markdown",
   "metadata": {},
   "source": [
    "# API 資料串接 - 以 Dcard API 實作範例\n",
    "\n",
    "* 了解 Dcard API 使用方式與回傳內容\n",
    "* 撰寫程式存取 API 且解析 JSON 格式資料\n"
   ]
  },
  {
   "cell_type": "markdown",
   "metadata": {},
   "source": [
    "## 作業目標\n",
    "\n",
    "* 請利用 API: https://www.dcard.tw/_api/forums/pet/posts?popular=true 回答下列問題：\n",
    "\n",
    "1. 這個 API 一次會回傳幾筆資料？每一筆資料包含哪些欄位？\n",
    "2. 取出每一筆資料的「標題」、「貼文時間」、「留言人數」、「按讚人數」\n",
    "3. 計算熱門/非熱門文章的「平均留言人數」與「平均按讚人數」"
   ]
  },
  {
   "cell_type": "code",
   "execution_count": 21,
   "metadata": {},
   "outputs": [
    {
     "name": "stdout",
     "output_type": "stream",
     "text": [
      "一次回傳30筆資料\n",
      "id,title,excerpt,anonymousSchool,anonymousDepartment,pinned,forumId,replyId,createdAt,updatedAt,commentCount,likeCount,withNickname,tags,topics,meta,forumName,forumAlias,nsfw,gender,school,replyTitle,mediaMeta,reactions,hidden,customStyle,isSuspiciousAccount,isModerator,layout,spoilerAlert,totalCommentCount,withImages,withVideos,media,reportReasonText,excerptComments,postAvatar,activityAvatar,verifiedBadge,memberType,"
     ]
    }
   ],
   "source": [
    "# 1. 這個 API 一次會回傳幾筆資料？每一筆資料包含哪些欄位？\n",
    "import requests\n",
    "import json\n",
    "\n",
    "url = 'https://www.dcard.tw/_api/forums/pet/posts?popular=true'\n",
    "headers ={'User-Agent':'Mozilla/5.0 (Macintosh; Intel Mac OS X 10_15_7) AppleWebKit/537.36 (KHTML, like Gecko) Chrome/92.0.4515.131 Safari/537.36'}\n",
    "re = requests.get(url, headers=headers)\n",
    "data = json.loads(re.text)\n",
    "\n",
    "print(\"一次回傳\" + str(len(data)) + \"筆資料\")\n",
    "for post in data[0]:\n",
    "    print(post,end=',')"
   ]
  },
  {
   "cell_type": "code",
   "execution_count": 24,
   "metadata": {},
   "outputs": [
    {
     "name": "stdout",
     "output_type": "stream",
     "text": [
      "標題:#長文。六年前我救了你，六年後你救了我。,貼文時間:2021-08-14T04:13:38.493Z,留言人數:193,按讚人數:10327\n",
      "標題:這不是寵物飲水機啊⋯,貼文時間:2021-08-14T13:53:08.634Z,留言人數:9,按讚人數:324\n",
      "標題:貓咪扯到噴肛門腺,貼文時間:2021-08-14T14:15:01.143Z,留言人數:15,按讚人數:218\n",
      "標題:小笨笨卡住自己,貼文時間:2021-08-14T18:12:04.665Z,留言人數:14,按讚人數:164\n",
      "標題:終於養貓了,貼文時間:2021-08-15T02:13:01.779Z,留言人數:15,按讚人數:90\n",
      "標題:喵喵的奇幻漂流,貼文時間:2021-08-14T12:54:53.828Z,留言人數:12,按讚人數:85\n",
      "標題:有人要領養小奶貓嗎？（高雄）（待洽詢中）,貼文時間:2021-08-15T06:06:20.025Z,留言人數:16,按讚人數:80\n",
      "標題:我也要有自己的小貓貓啦❤️,貼文時間:2021-08-14T12:19:37.862Z,留言人數:5,按讚人數:75\n",
      "標題:各種姿勢的貓(ᴗ̤ .̮ ᴗ̤  )₎₎ෆ,貼文時間:2021-08-14T15:53:56.732Z,留言人數:28,按讚人數:63\n",
      "標題:貓咪也有白血病🐈,貼文時間:2021-08-14T22:40:20.673Z,留言人數:3,按讚人數:60\n",
      "標題:求解，貓咪一直玩自動飲水機的水,貼文時間:2021-08-15T03:09:58.453Z,留言人數:23,按讚人數:39\n",
      "標題:關於我家狗狗在我房間門上開了一個狗洞……,貼文時間:2021-08-14T07:33:42.451Z,留言人數:9,按讚人數:30\n",
      "標題:貴桑桑的兔崽子,貼文時間:2021-08-15T04:34:25.765Z,留言人數:8,按讚人數:26\n",
      "標題:傻眼 我沒想過有這種開法,貼文時間:2021-08-14T15:57:03.792Z,留言人數:14,按讚人數:26\n",
      "標題:你單身嗎？請收下我給妳準備的小禮物啦💌,貼文時間:2021-08-14T12:07:11.717Z,留言人數:1,按讚人數:22\n",
      "標題:台中幼貓送養,貼文時間:2021-08-14T10:20:53.802Z,留言人數:8,按讚人數:21\n",
      "標題:我家貓貓下巴為什麼會脫毛,貼文時間:2021-08-14T20:56:13.204Z,留言人數:14,按讚人數:19\n",
      "標題:健身環代言貓,貼文時間:2021-08-14T16:01:16.671Z,留言人數:0,按讚人數:19\n",
      "標題:3個月的親人小虎斑找家🙌,貼文時間:2021-08-14T14:32:41.759Z,留言人數:0,按讚人數:15\n",
      "標題:（已解答）請問這種貓砂盆哪裡買得到？,貼文時間:2021-08-14T16:04:27.431Z,留言人數:7,按讚人數:15\n",
      "標題:天竺鼠車車主角本人？！,貼文時間:2021-08-15T08:25:42.301Z,留言人數:0,按讚人數:13\n",
      "標題:台北「小巨蛋」（內有不雅照,貼文時間:2021-08-15T07:46:48.370Z,留言人數:1,按讚人數:13\n",
      "標題:小ㄅ博美的ASMR,貼文時間:2021-08-14T08:31:53.560Z,留言人數:2,按讚人數:13\n",
      "標題:狗會分辨人的美醜嗎？,貼文時間:2021-08-15T04:23:26.978Z,留言人數:14,按讚人數:11\n",
      "標題:兩隻狗狗的相處,貼文時間:2021-08-15T03:49:58.179Z,留言人數:1,按讚人數:10\n",
      "標題:狗勾也有單雙眼皮嗎,貼文時間:2021-08-14T04:57:29.704Z,留言人數:2,按讚人數:10\n",
      "標題:撿到一隻浪貓收編,貼文時間:2021-08-14T03:14:08.519Z,留言人數:7,按讚人數:10\n",
      "標題:#請益  貓咪結紮（台中）,貼文時間:2021-08-15T05:21:22.492Z,留言人數:8,按讚人數:9\n",
      "標題:影子🥰,貼文時間:2021-08-14T09:37:05.101Z,留言人數:1,按讚人數:9\n",
      "標題:貓進食短片,貼文時間:2021-08-14T06:40:49.539Z,留言人數:2,按讚人數:8\n"
     ]
    }
   ],
   "source": [
    "# 2. 取出每一筆資料的「標題」、「貼文時間」、「留言人數」、「按讚人數」\n",
    "\n",
    "for post in data:\n",
    "    print('標題:{},貼文時間:{},留言人數:{},按讚人數:{}'.format(post['title'],post['updatedAt'],post['commentCount'],post['likeCount']))"
   ]
  },
  {
   "cell_type": "code",
   "execution_count": 34,
   "metadata": {},
   "outputs": [
    {
     "name": "stdout",
     "output_type": "stream",
     "text": [
      "平均留言人數:14.4\n",
      "平均按讚人數:394.1333333333333\n"
     ]
    }
   ],
   "source": [
    "# 3. 計算熱門/非熱門文章的「平均留言人數」與「平均按讚人數」\n",
    "\n",
    "comment_total = 0\n",
    "like_total = 0\n",
    "\n",
    "for post in data:\n",
    "    comment_total +=post['commentCount']\n",
    "    like_total +=post['likeCount']\n",
    "\n",
    "print('平均留言人數:' + str(comment_total/len(data)))\n",
    "print('平均按讚人數:' + str(like_total/len(data)))"
   ]
  },
  {
   "cell_type": "code",
   "execution_count": null,
   "metadata": {},
   "outputs": [],
   "source": []
  },
  {
   "cell_type": "code",
   "execution_count": null,
   "metadata": {},
   "outputs": [],
   "source": []
  }
 ],
 "metadata": {
  "kernelspec": {
   "display_name": "Python 3",
   "language": "python",
   "name": "python3"
  },
  "language_info": {
   "codemirror_mode": {
    "name": "ipython",
    "version": 3
   },
   "file_extension": ".py",
   "mimetype": "text/x-python",
   "name": "python",
   "nbconvert_exporter": "python",
   "pygments_lexer": "ipython3",
   "version": "3.8.8"
  }
 },
 "nbformat": 4,
 "nbformat_minor": 2
}
