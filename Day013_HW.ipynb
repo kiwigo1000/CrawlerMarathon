{
 "cells": [
  {
   "cell_type": "markdown",
   "metadata": {},
   "source": [
    "# PTT 網路爬蟲實作練習\n",
    "\n",
    "\n",
    "* 能夠利用 Request + BeatifulSour 撰寫爬蟲，並存放到合適的資料結構\n"
   ]
  },
  {
   "cell_type": "markdown",
   "metadata": {},
   "source": [
    "## 作業目標\n",
    "\n",
    "根據範例 ，完成以下問題：\n",
    "\n",
    "* ① 印出最新文章的「作者」「標題」「時間」\n",
    "* ② 印出第一頁所有文章的「作者」「標題」「時間」\n"
   ]
  },
  {
   "cell_type": "markdown",
   "metadata": {},
   "source": [
    "### ① 印出最新文章的「作者」「標題」「時間」"
   ]
  },
  {
   "cell_type": "code",
   "execution_count": 21,
   "metadata": {
    "scrolled": true
   },
   "outputs": [
    {
     "data": {
      "text/plain": [
       "[<div class=\"title\">\n",
       " \t\t\t\n",
       " \t\t\t\t<a href=\"/bbs/NBA/M.1629435341.A.CAF.html\">[新聞] 杜蘭特投資大麻公司　在美推廣醫藥大麻運</a>\n",
       " \t\t\t\n",
       " \t\t\t</div>,\n",
       " <div class=\"title\">\n",
       " \t\t\t\n",
       " \t\t\t\t<a href=\"/bbs/NBA/M.1629435546.A.6C9.html\">[情報] 如果小貝選擇買斷 詹皇歡迎他來湖人</a>\n",
       " \t\t\t\n",
       " \t\t\t</div>,\n",
       " <div class=\"title\">\n",
       " \t\t\t\n",
       " \t\t\t\t<a href=\"/bbs/NBA/M.1629436858.A.943.html\">[花邊] 天空貝：我沒說過\"接下來五年是我的\"</a>\n",
       " \t\t\t\n",
       " \t\t\t</div>,\n",
       " <div class=\"title\">\n",
       " \t\t\t\n",
       " \t\t\t\t<a href=\"/bbs/NBA/M.1629439899.A.13C.html\">[花邊] Joel Embiid 推特</a>\n",
       " \t\t\t\n",
       " \t\t\t</div>,\n",
       " <div class=\"title\">\n",
       " \t\t\t\n",
       " \t\t\t\t<a href=\"/bbs/NBA/M.1623237350.A.918.html\">[公告] 板規v8.4</a>\n",
       " \t\t\t\n",
       " \t\t\t</div>,\n",
       " <div class=\"title\">\n",
       " \t\t\t\n",
       " \t\t\t\t<a href=\"/bbs/NBA/M.1626883322.A.872.html\">[公告] NBA板救濟專案啟動 &amp; 借用板主位置</a>\n",
       " \t\t\t\n",
       " \t\t\t</div>,\n",
       " <div class=\"title\">\n",
       " \t\t\t\n",
       " \t\t\t\t<a href=\"/bbs/NBA/M.1627007834.A.CBF.html\">[公告] NBA板主徵選(8/7~9/5)</a>\n",
       " \t\t\t\n",
       " \t\t\t</div>,\n",
       " <div class=\"title\">\n",
       " \t\t\t\n",
       " \t\t\t\t<a href=\"/bbs/NBA/M.1627458582.A.571.html\">[情報] 2021-22 自由市場 開市總整理   (8/18)</a>\n",
       " \t\t\t\n",
       " \t\t\t</div>,\n",
       " <div class=\"title\">\n",
       " \t\t\t\n",
       " \t\t\t\t<a href=\"/bbs/NBA/M.1627629263.A.65C.html\">[情報] 2021-22 自由市場 球隊異動表格 (8/18)</a>\n",
       " \t\t\t\n",
       " \t\t\t</div>]"
      ]
     },
     "execution_count": 21,
     "metadata": {},
     "output_type": "execute_result"
    }
   ],
   "source": [
    "import requests\n",
    "from bs4 import BeautifulSoup\n",
    "import pandas as pd\n",
    "\n",
    "url = 'https://www.ptt.cc/bbs/NBA/index.html'\n",
    "r = requests.get(url)\n",
    "\n",
    "soup = BeautifulSoup(r.text,'html5lib')\n",
    "main = soup.find_all('div',class_='title')\n",
    "\n",
    "main"
   ]
  },
  {
   "cell_type": "code",
   "execution_count": 46,
   "metadata": {},
   "outputs": [
    {
     "name": "stdout",
     "output_type": "stream",
     "text": [
      "[新聞] 杜蘭特投資大麻公司　在美推廣醫藥大麻運\n",
      "作者：whj0530 (億載金城武)\n",
      "時間：Fri Aug 20 12:55:39 2021\n",
      "[情報] 如果小貝選擇買斷 詹皇歡迎他來湖人\n",
      "作者：MrDK (DK)\n",
      "時間：Fri Aug 20 12:59:03 2021\n",
      "[花邊] 天空貝：我沒說過\"接下來五年是我的\"\n",
      "作者：pneumo (超☆冒險蓋)\n",
      "時間：Fri Aug 20 13:20:55 2021\n",
      "[花邊] Joel Embiid 推特\n",
      "作者：kakala99 (Fernando Torres #9)\n",
      "時間：Fri Aug 20 14:11:36 2021\n",
      "[公告] 板規v8.4\n",
      "[公告] NBA板救濟專案啟動 & 借用板主位置\n",
      "作者：Vedan (百鬼組-味丹)\n",
      "時間：Thu Jul 22 00:01:56 2021\n",
      "[公告] NBA板主徵選(8/7~9/5)\n",
      "作者：Induction (愛人愛己)\n",
      "時間：Fri Jul 23 10:37:09 2021\n",
      "[情報] 2021-22 自由市場 開市總整理   (8/18)\n",
      "[情報] 2021-22 自由市場 球隊異動表格 (8/18)\n"
     ]
    }
   ],
   "source": [
    "url = 'https://www.ptt.cc/bbs/NBA/index.html'\n",
    "r = requests.get(url)\n",
    "\n",
    "soup = BeautifulSoup(r.text, \"html5lib\")\n",
    "\n",
    "\n",
    "for d in soup.find_all(class_=\"title\"):\n",
    "    print(d.text.replace('\\t', '').replace('\\n', ''))\n",
    "    try:\n",
    "        r = BeautifulSoup(requests.get('https://www.ptt.cc'+d.find('a')['href']).text, \"html5lib\")\n",
    "        print('作者：'+r.find_all(class_='article-meta-value')[0].text)\n",
    "        print('時間：'+r.find_all(class_='article-meta-value')[3].text)\n",
    "       \n",
    "    except:\n",
    "        continue\n",
    "    "
   ]
  },
  {
   "cell_type": "markdown",
   "metadata": {},
   "source": [
    "### ② 印出第一頁所有文章的「作者」「標題」「時間」"
   ]
  },
  {
   "cell_type": "code",
   "execution_count": 47,
   "metadata": {},
   "outputs": [
    {
     "name": "stdout",
     "output_type": "stream",
     "text": [
      "寫在 NBA 版的第九個球季之前\n",
      "作者：Price (Price)\n",
      "時間：Sun Oct 31 01:56:30 2004\n",
      "Re: [問題] 請問為何milicic都沒法上場？？？？\n",
      "作者：SHB (森里螢一)\n",
      "時間：Tue Nov 16 19:48:01 2004\n",
      "Re: melo......\n",
      "作者：RickymarU (失蹤的力丸 )\n",
      "時間：Tue Nov 16 23:16:02 2004\n",
      "[閒聊] penny\n",
      "作者：baoerking (basketball)\n",
      "時間：Thu Nov 18 21:01:29 2004\n",
      "Re: 灌籃次數排行板\n",
      "作者：chinlingts (運動家的風度)\n",
      "時間：Sat Nov 20 02:53:48 2004\n",
      "Re: 哇勒大亂鬥~~~~今天這場真是[email protected]@\n",
      "作者：KOC (Godzilla)\n",
      "時間：Sat Nov 20 15:41:18 2004\n",
      "[轉錄]（溜馬與活塞）後續發展  ~~by SHB\n",
      "作者：Lyotard (painful)\n",
      "時間：Sat Nov 20 16:56:30 2004\n",
      "Re:（溜馬與活塞）後續發展  ~~by SHB\n",
      "作者：BIASONICA (sonic boom)\n",
      "時間：Sat Nov 20 18:42:20 2004\n",
      "Re: [請益] 請問nba各隊看板人物...\n",
      "作者：sunnyside (藏心無忌)\n",
      "時間：Sat Nov 20 21:15:24 2004\n",
      "Re: Good times for Jazz started with Stockton \n",
      "作者：temped (想要打動人心)\n",
      "時間：Tue Nov 23 22:26:38 2004\n",
      "十二月轉播表(未定)\n",
      "作者：shanyaochung (好無聊喔)\n",
      "時間：Tue Nov 23 22:50:03 2004\n",
      "永遠的溜馬迷\n",
      "作者：todaynow (day)\n",
      "時間：Tue Nov 23 23:43:09 2004\n",
      "[公告] memi0605 浸水桶\n",
      "作者：Lyotard (painful)\n",
      "時間：Sat Nov 27 17:20:00 2004\n",
      "十二月轉播時刻表\n",
      "作者：Motola (超連結魔人)\n",
      "時間：Sat Nov 27 18:14:54 2004\n",
      "Re: Hill 復活了,那Penny呢?\n",
      "作者：Phatmen (大澤木小鐵)\n",
      "時間：Mon Nov 29 00:35:29 2004\n",
      "Re: 不吐不快\n",
      "作者：Phatmen (大澤木小鐵)\n",
      "時間：Fri Dec  3 21:50:38 2004\n",
      "Re: 交易的新聞\n",
      "作者：Finley (M姐好勁)\n",
      "時間：Sat Dec  4 13:24:09 2004\n",
      "Re: [問題] NBA十大最難破的紀錄\n",
      "作者：suendy (全國-碩士生徵友)\n",
      "時間：Sat Dec  4 17:29:13 2004\n",
      "Players of the week\n",
      "作者：Finley (M姐好勁)\n",
      "時間：Tue Dec  7 11:14:56 2004\n",
      "[交易] 湖人與山貓的球員異動\n",
      "作者：Lyotard (painful)\n",
      "時間：Tue Dec  7 21:34:39 2004\n"
     ]
    }
   ],
   "source": [
    "url = 'https://www.ptt.cc/bbs/NBA/index1.html'\n",
    "r = requests.get(url)\n",
    "\n",
    "soup = BeautifulSoup(r.text, \"html5lib\")\n",
    "\n",
    "\n",
    "for d in soup.find_all(class_=\"title\"):\n",
    "    print(d.text.replace('\\t', '').replace('\\n', ''))\n",
    "    try:\n",
    "        r = BeautifulSoup(requests.get('https://www.ptt.cc'+d.find('a')['href']).text, \"html5lib\")\n",
    "        print('作者：'+r.find_all(class_='article-meta-value')[0].text)\n",
    "        print('時間：'+r.find_all(class_='article-meta-value')[3].text)\n",
    "       \n",
    "    except:\n",
    "        continue\n",
    "    "
   ]
  },
  {
   "cell_type": "markdown",
   "metadata": {},
   "source": [
    "### ③ 試著爬爬看其他版的文章"
   ]
  },
  {
   "cell_type": "code",
   "execution_count": null,
   "metadata": {},
   "outputs": [],
   "source": [
    "url = 'https://www.ptt.cc/bbs/NBA/index1.html'\n",
    "r = requests.get(url)\n",
    "\n",
    "soup = BeautifulSoup(r.text, \"html5lib\")\n",
    "\n",
    "\n",
    "for d in soup.find_all(class_=\"title\"):\n",
    "    print(d.text.replace('\\t', '').replace('\\n', ''))\n",
    "    try:\n",
    "        r = BeautifulSoup(requests.get('https://www.ptt.cc'+d.find('a')['href']).text, \"html5lib\")\n",
    "        print('作者：'+r.find_all(class_='article-meta-value')[0].text)\n",
    "        print('時間：'+r.find_all(class_='article-meta-value')[3].text)\n",
    "       \n",
    "    except:\n",
    "        continue\n",
    "    "
   ]
  }
 ],
 "metadata": {
  "kernelspec": {
   "display_name": "Python 3",
   "language": "python",
   "name": "python3"
  },
  "language_info": {
   "codemirror_mode": {
    "name": "ipython",
    "version": 3
   },
   "file_extension": ".py",
   "mimetype": "text/x-python",
   "name": "python",
   "nbconvert_exporter": "python",
   "pygments_lexer": "ipython3",
   "version": "3.8.8"
  }
 },
 "nbformat": 4,
 "nbformat_minor": 2
}
